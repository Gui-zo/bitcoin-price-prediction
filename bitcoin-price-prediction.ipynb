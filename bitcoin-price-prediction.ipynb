{
 "cells": [
  {
   "cell_type": "code",
   "execution_count": 268,
   "metadata": {},
   "outputs": [],
   "source": [
    "import pandas as pd\n",
    "import numpy as np\n",
    "import seaborn as sns\n",
    "import matplotlib.pyplot as plt"
   ]
  },
  {
   "cell_type": "markdown",
   "metadata": {},
   "source": [
    "# Data Reading and Cleaning"
   ]
  },
  {
   "cell_type": "code",
   "execution_count": 269,
   "metadata": {},
   "outputs": [
    {
     "data": {
      "text/html": [
       "<div>\n",
       "<style scoped>\n",
       "    .dataframe tbody tr th:only-of-type {\n",
       "        vertical-align: middle;\n",
       "    }\n",
       "\n",
       "    .dataframe tbody tr th {\n",
       "        vertical-align: top;\n",
       "    }\n",
       "\n",
       "    .dataframe thead th {\n",
       "        text-align: right;\n",
       "    }\n",
       "</style>\n",
       "<table border=\"1\" class=\"dataframe\">\n",
       "  <thead>\n",
       "    <tr style=\"text-align: right;\">\n",
       "      <th></th>\n",
       "      <th>Price</th>\n",
       "      <th>MA 7</th>\n",
       "      <th>MA 20</th>\n",
       "      <th>MA 50</th>\n",
       "      <th>RSI 7</th>\n",
       "      <th>RSI 14</th>\n",
       "      <th>RSI 21</th>\n",
       "      <th>Gain</th>\n",
       "      <th>Loss</th>\n",
       "      <th>Average Gain (7)</th>\n",
       "      <th>Average Loss (7)</th>\n",
       "      <th>Average Gain (14)</th>\n",
       "      <th>Average Loss (14)</th>\n",
       "      <th>Average Gain (21)</th>\n",
       "      <th>Average Loss (21)</th>\n",
       "      <th>%</th>\n",
       "      <th>Date</th>\n",
       "      <th>Positive</th>\n",
       "    </tr>\n",
       "  </thead>\n",
       "  <tbody>\n",
       "    <tr>\n",
       "      <th>0</th>\n",
       "      <td>135.30000</td>\n",
       "      <td>NaN</td>\n",
       "      <td>NaN</td>\n",
       "      <td>NaN</td>\n",
       "      <td>NaN</td>\n",
       "      <td>NaN</td>\n",
       "      <td>NaN</td>\n",
       "      <td>NaN</td>\n",
       "      <td>NaN</td>\n",
       "      <td>NaN</td>\n",
       "      <td>NaN</td>\n",
       "      <td>NaN</td>\n",
       "      <td>NaN</td>\n",
       "      <td>NaN</td>\n",
       "      <td>NaN</td>\n",
       "      <td>NaN</td>\n",
       "      <td>NaN</td>\n",
       "      <td>0</td>\n",
       "    </tr>\n",
       "    <tr>\n",
       "      <th>1</th>\n",
       "      <td>141.96000</td>\n",
       "      <td>NaN</td>\n",
       "      <td>NaN</td>\n",
       "      <td>NaN</td>\n",
       "      <td>NaN</td>\n",
       "      <td>NaN</td>\n",
       "      <td>NaN</td>\n",
       "      <td>6.660000</td>\n",
       "      <td>0.000000</td>\n",
       "      <td>NaN</td>\n",
       "      <td>NaN</td>\n",
       "      <td>NaN</td>\n",
       "      <td>NaN</td>\n",
       "      <td>NaN</td>\n",
       "      <td>NaN</td>\n",
       "      <td>4.922395</td>\n",
       "      <td>4/30/2013</td>\n",
       "      <td>1</td>\n",
       "    </tr>\n",
       "    <tr>\n",
       "      <th>2</th>\n",
       "      <td>135.30000</td>\n",
       "      <td>NaN</td>\n",
       "      <td>NaN</td>\n",
       "      <td>NaN</td>\n",
       "      <td>NaN</td>\n",
       "      <td>NaN</td>\n",
       "      <td>NaN</td>\n",
       "      <td>0.000000</td>\n",
       "      <td>6.660000</td>\n",
       "      <td>NaN</td>\n",
       "      <td>NaN</td>\n",
       "      <td>NaN</td>\n",
       "      <td>NaN</td>\n",
       "      <td>NaN</td>\n",
       "      <td>NaN</td>\n",
       "      <td>-4.691462</td>\n",
       "      <td>5/1/2013</td>\n",
       "      <td>0</td>\n",
       "    </tr>\n",
       "    <tr>\n",
       "      <th>3</th>\n",
       "      <td>117.00000</td>\n",
       "      <td>NaN</td>\n",
       "      <td>NaN</td>\n",
       "      <td>NaN</td>\n",
       "      <td>NaN</td>\n",
       "      <td>NaN</td>\n",
       "      <td>NaN</td>\n",
       "      <td>0.000000</td>\n",
       "      <td>18.300000</td>\n",
       "      <td>NaN</td>\n",
       "      <td>NaN</td>\n",
       "      <td>NaN</td>\n",
       "      <td>NaN</td>\n",
       "      <td>NaN</td>\n",
       "      <td>NaN</td>\n",
       "      <td>-13.525499</td>\n",
       "      <td>5/2/2013</td>\n",
       "      <td>0</td>\n",
       "    </tr>\n",
       "    <tr>\n",
       "      <th>4</th>\n",
       "      <td>103.43000</td>\n",
       "      <td>NaN</td>\n",
       "      <td>NaN</td>\n",
       "      <td>NaN</td>\n",
       "      <td>NaN</td>\n",
       "      <td>NaN</td>\n",
       "      <td>NaN</td>\n",
       "      <td>0.000000</td>\n",
       "      <td>13.570000</td>\n",
       "      <td>NaN</td>\n",
       "      <td>NaN</td>\n",
       "      <td>NaN</td>\n",
       "      <td>NaN</td>\n",
       "      <td>NaN</td>\n",
       "      <td>NaN</td>\n",
       "      <td>-11.598291</td>\n",
       "      <td>5/3/2013</td>\n",
       "      <td>0</td>\n",
       "    </tr>\n",
       "    <tr>\n",
       "      <th>...</th>\n",
       "      <td>...</td>\n",
       "      <td>...</td>\n",
       "      <td>...</td>\n",
       "      <td>...</td>\n",
       "      <td>...</td>\n",
       "      <td>...</td>\n",
       "      <td>...</td>\n",
       "      <td>...</td>\n",
       "      <td>...</td>\n",
       "      <td>...</td>\n",
       "      <td>...</td>\n",
       "      <td>...</td>\n",
       "      <td>...</td>\n",
       "      <td>...</td>\n",
       "      <td>...</td>\n",
       "      <td>...</td>\n",
       "      <td>...</td>\n",
       "      <td>...</td>\n",
       "    </tr>\n",
       "    <tr>\n",
       "      <th>3356</th>\n",
       "      <td>21660.59684</td>\n",
       "      <td>20094.14053</td>\n",
       "      <td>20361.83398</td>\n",
       "      <td>25210.27894</td>\n",
       "      <td>67.916013</td>\n",
       "      <td>47.741136</td>\n",
       "      <td>34.550735</td>\n",
       "      <td>1093.909613</td>\n",
       "      <td>0.000000</td>\n",
       "      <td>339.430662</td>\n",
       "      <td>160.349360</td>\n",
       "      <td>280.631079</td>\n",
       "      <td>307.187107</td>\n",
       "      <td>253.733636</td>\n",
       "      <td>480.646208</td>\n",
       "      <td>5.318842</td>\n",
       "      <td>7/7/2022</td>\n",
       "      <td>1</td>\n",
       "    </tr>\n",
       "    <tr>\n",
       "      <th>3357</th>\n",
       "      <td>21858.81875</td>\n",
       "      <td>20444.33643</td>\n",
       "      <td>20502.40403</td>\n",
       "      <td>25039.80719</td>\n",
       "      <td>69.905360</td>\n",
       "      <td>49.062442</td>\n",
       "      <td>35.616910</td>\n",
       "      <td>198.221912</td>\n",
       "      <td>0.000000</td>\n",
       "      <td>319.257983</td>\n",
       "      <td>137.442308</td>\n",
       "      <td>274.744709</td>\n",
       "      <td>285.245171</td>\n",
       "      <td>256.853843</td>\n",
       "      <td>464.303165</td>\n",
       "      <td>0.915127</td>\n",
       "      <td>7/8/2022</td>\n",
       "      <td>1</td>\n",
       "    </tr>\n",
       "    <tr>\n",
       "      <th>3358</th>\n",
       "      <td>21589.62810</td>\n",
       "      <td>20775.96516</td>\n",
       "      <td>20556.06483</td>\n",
       "      <td>24886.46348</td>\n",
       "      <td>63.652314</td>\n",
       "      <td>47.312932</td>\n",
       "      <td>36.428379</td>\n",
       "      <td>0.000000</td>\n",
       "      <td>269.190648</td>\n",
       "      <td>273.649700</td>\n",
       "      <td>156.263500</td>\n",
       "      <td>255.120087</td>\n",
       "      <td>284.098419</td>\n",
       "      <td>257.653646</td>\n",
       "      <td>449.634609</td>\n",
       "      <td>-1.231497</td>\n",
       "      <td>7/9/2022</td>\n",
       "      <td>0</td>\n",
       "    </tr>\n",
       "    <tr>\n",
       "      <th>3359</th>\n",
       "      <td>20859.81408</td>\n",
       "      <td>20997.33385</td>\n",
       "      <td>20567.21759</td>\n",
       "      <td>24713.82960</td>\n",
       "      <td>49.614769</td>\n",
       "      <td>42.851539</td>\n",
       "      <td>36.854821</td>\n",
       "      <td>0.000000</td>\n",
       "      <td>729.814022</td>\n",
       "      <td>234.556886</td>\n",
       "      <td>238.199288</td>\n",
       "      <td>236.897224</td>\n",
       "      <td>315.935248</td>\n",
       "      <td>256.553800</td>\n",
       "      <td>439.566261</td>\n",
       "      <td>-3.380392</td>\n",
       "      <td>7/10/2022</td>\n",
       "      <td>0</td>\n",
       "    </tr>\n",
       "    <tr>\n",
       "      <th>3360</th>\n",
       "      <td>20561.58785</td>\n",
       "      <td>21040.84464</td>\n",
       "      <td>20560.25079</td>\n",
       "      <td>24518.04035</td>\n",
       "      <td>44.894660</td>\n",
       "      <td>41.144209</td>\n",
       "      <td>37.105368</td>\n",
       "      <td>0.000000</td>\n",
       "      <td>298.226231</td>\n",
       "      <td>201.048759</td>\n",
       "      <td>246.774566</td>\n",
       "      <td>219.975994</td>\n",
       "      <td>314.670318</td>\n",
       "      <td>253.910703</td>\n",
       "      <td>430.385704</td>\n",
       "      <td>-1.429669</td>\n",
       "      <td>7/11/2022</td>\n",
       "      <td>0</td>\n",
       "    </tr>\n",
       "  </tbody>\n",
       "</table>\n",
       "<p>3361 rows × 18 columns</p>\n",
       "</div>"
      ],
      "text/plain": [
       "            Price         MA 7        MA 20        MA 50      RSI 7  \\\n",
       "0       135.30000          NaN          NaN          NaN        NaN   \n",
       "1       141.96000          NaN          NaN          NaN        NaN   \n",
       "2       135.30000          NaN          NaN          NaN        NaN   \n",
       "3       117.00000          NaN          NaN          NaN        NaN   \n",
       "4       103.43000          NaN          NaN          NaN        NaN   \n",
       "...           ...          ...          ...          ...        ...   \n",
       "3356  21660.59684  20094.14053  20361.83398  25210.27894  67.916013   \n",
       "3357  21858.81875  20444.33643  20502.40403  25039.80719  69.905360   \n",
       "3358  21589.62810  20775.96516  20556.06483  24886.46348  63.652314   \n",
       "3359  20859.81408  20997.33385  20567.21759  24713.82960  49.614769   \n",
       "3360  20561.58785  21040.84464  20560.25079  24518.04035  44.894660   \n",
       "\n",
       "         RSI 14     RSI 21         Gain        Loss  Average Gain (7)  \\\n",
       "0           NaN        NaN          NaN         NaN               NaN   \n",
       "1           NaN        NaN     6.660000    0.000000               NaN   \n",
       "2           NaN        NaN     0.000000    6.660000               NaN   \n",
       "3           NaN        NaN     0.000000   18.300000               NaN   \n",
       "4           NaN        NaN     0.000000   13.570000               NaN   \n",
       "...         ...        ...          ...         ...               ...   \n",
       "3356  47.741136  34.550735  1093.909613    0.000000        339.430662   \n",
       "3357  49.062442  35.616910   198.221912    0.000000        319.257983   \n",
       "3358  47.312932  36.428379     0.000000  269.190648        273.649700   \n",
       "3359  42.851539  36.854821     0.000000  729.814022        234.556886   \n",
       "3360  41.144209  37.105368     0.000000  298.226231        201.048759   \n",
       "\n",
       "      Average Loss (7)  Average Gain (14)  Average Loss (14)  \\\n",
       "0                  NaN                NaN                NaN   \n",
       "1                  NaN                NaN                NaN   \n",
       "2                  NaN                NaN                NaN   \n",
       "3                  NaN                NaN                NaN   \n",
       "4                  NaN                NaN                NaN   \n",
       "...                ...                ...                ...   \n",
       "3356        160.349360         280.631079         307.187107   \n",
       "3357        137.442308         274.744709         285.245171   \n",
       "3358        156.263500         255.120087         284.098419   \n",
       "3359        238.199288         236.897224         315.935248   \n",
       "3360        246.774566         219.975994         314.670318   \n",
       "\n",
       "      Average Gain (21)  Average Loss (21)          %       Date  Positive  \n",
       "0                   NaN                NaN        NaN        NaN         0  \n",
       "1                   NaN                NaN   4.922395  4/30/2013         1  \n",
       "2                   NaN                NaN  -4.691462   5/1/2013         0  \n",
       "3                   NaN                NaN -13.525499   5/2/2013         0  \n",
       "4                   NaN                NaN -11.598291   5/3/2013         0  \n",
       "...                 ...                ...        ...        ...       ...  \n",
       "3356         253.733636         480.646208   5.318842   7/7/2022         1  \n",
       "3357         256.853843         464.303165   0.915127   7/8/2022         1  \n",
       "3358         257.653646         449.634609  -1.231497   7/9/2022         0  \n",
       "3359         256.553800         439.566261  -3.380392  7/10/2022         0  \n",
       "3360         253.910703         430.385704  -1.429669  7/11/2022         0  \n",
       "\n",
       "[3361 rows x 18 columns]"
      ]
     },
     "execution_count": 269,
     "metadata": {},
     "output_type": "execute_result"
    }
   ],
   "source": [
    "df = pd.read_csv('bitcoin_historical_data.csv')\n",
    "df"
   ]
  },
  {
   "cell_type": "code",
   "execution_count": 270,
   "metadata": {},
   "outputs": [
    {
     "data": {
      "text/plain": [
       "Index(['Price', 'MA 7', 'MA 20', 'MA 50', 'RSI 7', 'RSI 14', 'RSI 21', 'Gain',\n",
       "       'Loss', 'Average Gain (7)', 'Average Loss (7)', 'Average Gain (14)',\n",
       "       'Average Loss (14)', 'Average Gain (21)', 'Average Loss (21)', '%',\n",
       "       'Date', 'Positive'],\n",
       "      dtype='object')"
      ]
     },
     "execution_count": 270,
     "metadata": {},
     "output_type": "execute_result"
    }
   ],
   "source": [
    "df.columns"
   ]
  },
  {
   "cell_type": "code",
   "execution_count": 271,
   "metadata": {},
   "outputs": [
    {
     "data": {
      "text/html": [
       "<div>\n",
       "<style scoped>\n",
       "    .dataframe tbody tr th:only-of-type {\n",
       "        vertical-align: middle;\n",
       "    }\n",
       "\n",
       "    .dataframe tbody tr th {\n",
       "        vertical-align: top;\n",
       "    }\n",
       "\n",
       "    .dataframe thead th {\n",
       "        text-align: right;\n",
       "    }\n",
       "</style>\n",
       "<table border=\"1\" class=\"dataframe\">\n",
       "  <thead>\n",
       "    <tr style=\"text-align: right;\">\n",
       "      <th></th>\n",
       "      <th>Price</th>\n",
       "      <th>MA 7</th>\n",
       "      <th>MA 20</th>\n",
       "      <th>MA 50</th>\n",
       "      <th>RSI 7</th>\n",
       "      <th>RSI 14</th>\n",
       "      <th>RSI 21</th>\n",
       "      <th>%</th>\n",
       "      <th>Date</th>\n",
       "      <th>Positive</th>\n",
       "    </tr>\n",
       "  </thead>\n",
       "  <tbody>\n",
       "    <tr>\n",
       "      <th>0</th>\n",
       "      <td>135.30000</td>\n",
       "      <td>NaN</td>\n",
       "      <td>NaN</td>\n",
       "      <td>NaN</td>\n",
       "      <td>NaN</td>\n",
       "      <td>NaN</td>\n",
       "      <td>NaN</td>\n",
       "      <td>NaN</td>\n",
       "      <td>NaN</td>\n",
       "      <td>0</td>\n",
       "    </tr>\n",
       "    <tr>\n",
       "      <th>1</th>\n",
       "      <td>141.96000</td>\n",
       "      <td>NaN</td>\n",
       "      <td>NaN</td>\n",
       "      <td>NaN</td>\n",
       "      <td>NaN</td>\n",
       "      <td>NaN</td>\n",
       "      <td>NaN</td>\n",
       "      <td>4.922395</td>\n",
       "      <td>4/30/2013</td>\n",
       "      <td>1</td>\n",
       "    </tr>\n",
       "    <tr>\n",
       "      <th>2</th>\n",
       "      <td>135.30000</td>\n",
       "      <td>NaN</td>\n",
       "      <td>NaN</td>\n",
       "      <td>NaN</td>\n",
       "      <td>NaN</td>\n",
       "      <td>NaN</td>\n",
       "      <td>NaN</td>\n",
       "      <td>-4.691462</td>\n",
       "      <td>5/1/2013</td>\n",
       "      <td>0</td>\n",
       "    </tr>\n",
       "    <tr>\n",
       "      <th>3</th>\n",
       "      <td>117.00000</td>\n",
       "      <td>NaN</td>\n",
       "      <td>NaN</td>\n",
       "      <td>NaN</td>\n",
       "      <td>NaN</td>\n",
       "      <td>NaN</td>\n",
       "      <td>NaN</td>\n",
       "      <td>-13.525499</td>\n",
       "      <td>5/2/2013</td>\n",
       "      <td>0</td>\n",
       "    </tr>\n",
       "    <tr>\n",
       "      <th>4</th>\n",
       "      <td>103.43000</td>\n",
       "      <td>NaN</td>\n",
       "      <td>NaN</td>\n",
       "      <td>NaN</td>\n",
       "      <td>NaN</td>\n",
       "      <td>NaN</td>\n",
       "      <td>NaN</td>\n",
       "      <td>-11.598291</td>\n",
       "      <td>5/3/2013</td>\n",
       "      <td>0</td>\n",
       "    </tr>\n",
       "    <tr>\n",
       "      <th>...</th>\n",
       "      <td>...</td>\n",
       "      <td>...</td>\n",
       "      <td>...</td>\n",
       "      <td>...</td>\n",
       "      <td>...</td>\n",
       "      <td>...</td>\n",
       "      <td>...</td>\n",
       "      <td>...</td>\n",
       "      <td>...</td>\n",
       "      <td>...</td>\n",
       "    </tr>\n",
       "    <tr>\n",
       "      <th>3356</th>\n",
       "      <td>21660.59684</td>\n",
       "      <td>20094.14053</td>\n",
       "      <td>20361.83398</td>\n",
       "      <td>25210.27894</td>\n",
       "      <td>67.916013</td>\n",
       "      <td>47.741136</td>\n",
       "      <td>34.550735</td>\n",
       "      <td>5.318842</td>\n",
       "      <td>7/7/2022</td>\n",
       "      <td>1</td>\n",
       "    </tr>\n",
       "    <tr>\n",
       "      <th>3357</th>\n",
       "      <td>21858.81875</td>\n",
       "      <td>20444.33643</td>\n",
       "      <td>20502.40403</td>\n",
       "      <td>25039.80719</td>\n",
       "      <td>69.905360</td>\n",
       "      <td>49.062442</td>\n",
       "      <td>35.616910</td>\n",
       "      <td>0.915127</td>\n",
       "      <td>7/8/2022</td>\n",
       "      <td>1</td>\n",
       "    </tr>\n",
       "    <tr>\n",
       "      <th>3358</th>\n",
       "      <td>21589.62810</td>\n",
       "      <td>20775.96516</td>\n",
       "      <td>20556.06483</td>\n",
       "      <td>24886.46348</td>\n",
       "      <td>63.652314</td>\n",
       "      <td>47.312932</td>\n",
       "      <td>36.428379</td>\n",
       "      <td>-1.231497</td>\n",
       "      <td>7/9/2022</td>\n",
       "      <td>0</td>\n",
       "    </tr>\n",
       "    <tr>\n",
       "      <th>3359</th>\n",
       "      <td>20859.81408</td>\n",
       "      <td>20997.33385</td>\n",
       "      <td>20567.21759</td>\n",
       "      <td>24713.82960</td>\n",
       "      <td>49.614769</td>\n",
       "      <td>42.851539</td>\n",
       "      <td>36.854821</td>\n",
       "      <td>-3.380392</td>\n",
       "      <td>7/10/2022</td>\n",
       "      <td>0</td>\n",
       "    </tr>\n",
       "    <tr>\n",
       "      <th>3360</th>\n",
       "      <td>20561.58785</td>\n",
       "      <td>21040.84464</td>\n",
       "      <td>20560.25079</td>\n",
       "      <td>24518.04035</td>\n",
       "      <td>44.894660</td>\n",
       "      <td>41.144209</td>\n",
       "      <td>37.105368</td>\n",
       "      <td>-1.429669</td>\n",
       "      <td>7/11/2022</td>\n",
       "      <td>0</td>\n",
       "    </tr>\n",
       "  </tbody>\n",
       "</table>\n",
       "<p>3361 rows × 10 columns</p>\n",
       "</div>"
      ],
      "text/plain": [
       "            Price         MA 7        MA 20        MA 50      RSI 7  \\\n",
       "0       135.30000          NaN          NaN          NaN        NaN   \n",
       "1       141.96000          NaN          NaN          NaN        NaN   \n",
       "2       135.30000          NaN          NaN          NaN        NaN   \n",
       "3       117.00000          NaN          NaN          NaN        NaN   \n",
       "4       103.43000          NaN          NaN          NaN        NaN   \n",
       "...           ...          ...          ...          ...        ...   \n",
       "3356  21660.59684  20094.14053  20361.83398  25210.27894  67.916013   \n",
       "3357  21858.81875  20444.33643  20502.40403  25039.80719  69.905360   \n",
       "3358  21589.62810  20775.96516  20556.06483  24886.46348  63.652314   \n",
       "3359  20859.81408  20997.33385  20567.21759  24713.82960  49.614769   \n",
       "3360  20561.58785  21040.84464  20560.25079  24518.04035  44.894660   \n",
       "\n",
       "         RSI 14     RSI 21          %       Date  Positive  \n",
       "0           NaN        NaN        NaN        NaN         0  \n",
       "1           NaN        NaN   4.922395  4/30/2013         1  \n",
       "2           NaN        NaN  -4.691462   5/1/2013         0  \n",
       "3           NaN        NaN -13.525499   5/2/2013         0  \n",
       "4           NaN        NaN -11.598291   5/3/2013         0  \n",
       "...         ...        ...        ...        ...       ...  \n",
       "3356  47.741136  34.550735   5.318842   7/7/2022         1  \n",
       "3357  49.062442  35.616910   0.915127   7/8/2022         1  \n",
       "3358  47.312932  36.428379  -1.231497   7/9/2022         0  \n",
       "3359  42.851539  36.854821  -3.380392  7/10/2022         0  \n",
       "3360  41.144209  37.105368  -1.429669  7/11/2022         0  \n",
       "\n",
       "[3361 rows x 10 columns]"
      ]
     },
     "execution_count": 271,
     "metadata": {},
     "output_type": "execute_result"
    }
   ],
   "source": [
    "# Dropping columns that are not going to be used:\n",
    "df = df.drop(['Gain', 'Loss', 'Average Gain (7)', 'Average Loss (7)', 'Average Gain (14)', 'Average Loss (14)', 'Average Gain (21)', 'Average Loss (21)'], axis=1)\n",
    "df"
   ]
  },
  {
   "cell_type": "code",
   "execution_count": 272,
   "metadata": {},
   "outputs": [
    {
     "data": {
      "text/html": [
       "<div>\n",
       "<style scoped>\n",
       "    .dataframe tbody tr th:only-of-type {\n",
       "        vertical-align: middle;\n",
       "    }\n",
       "\n",
       "    .dataframe tbody tr th {\n",
       "        vertical-align: top;\n",
       "    }\n",
       "\n",
       "    .dataframe thead th {\n",
       "        text-align: right;\n",
       "    }\n",
       "</style>\n",
       "<table border=\"1\" class=\"dataframe\">\n",
       "  <thead>\n",
       "    <tr style=\"text-align: right;\">\n",
       "      <th></th>\n",
       "      <th>Price</th>\n",
       "      <th>MA 7</th>\n",
       "      <th>MA 20</th>\n",
       "      <th>MA 50</th>\n",
       "      <th>RSI 7</th>\n",
       "      <th>RSI 14</th>\n",
       "      <th>RSI 21</th>\n",
       "      <th>%</th>\n",
       "      <th>Date</th>\n",
       "      <th>Positive</th>\n",
       "    </tr>\n",
       "  </thead>\n",
       "  <tbody>\n",
       "    <tr>\n",
       "      <th>49</th>\n",
       "      <td>100.42000</td>\n",
       "      <td>103.552571</td>\n",
       "      <td>114.668585</td>\n",
       "      <td>117.827694</td>\n",
       "      <td>30.866504</td>\n",
       "      <td>34.753876</td>\n",
       "      <td>40.639036</td>\n",
       "      <td>0.430043</td>\n",
       "      <td>6/17/2013</td>\n",
       "      <td>1</td>\n",
       "    </tr>\n",
       "    <tr>\n",
       "      <th>50</th>\n",
       "      <td>102.00000</td>\n",
       "      <td>102.982571</td>\n",
       "      <td>113.309635</td>\n",
       "      <td>117.161694</td>\n",
       "      <td>36.277552</td>\n",
       "      <td>36.939573</td>\n",
       "      <td>40.490203</td>\n",
       "      <td>1.573392</td>\n",
       "      <td>6/18/2013</td>\n",
       "      <td>1</td>\n",
       "    </tr>\n",
       "    <tr>\n",
       "      <th>51</th>\n",
       "      <td>106.55000</td>\n",
       "      <td>102.646857</td>\n",
       "      <td>112.030635</td>\n",
       "      <td>116.453494</td>\n",
       "      <td>49.545260</td>\n",
       "      <td>42.874362</td>\n",
       "      <td>40.828316</td>\n",
       "      <td>4.460784</td>\n",
       "      <td>6/19/2013</td>\n",
       "      <td>1</td>\n",
       "    </tr>\n",
       "    <tr>\n",
       "      <th>52</th>\n",
       "      <td>107.90000</td>\n",
       "      <td>102.575429</td>\n",
       "      <td>111.055585</td>\n",
       "      <td>115.905494</td>\n",
       "      <td>52.937217</td>\n",
       "      <td>44.542067</td>\n",
       "      <td>41.249402</td>\n",
       "      <td>1.267011</td>\n",
       "      <td>6/20/2013</td>\n",
       "      <td>1</td>\n",
       "    </tr>\n",
       "    <tr>\n",
       "      <th>53</th>\n",
       "      <td>110.91000</td>\n",
       "      <td>103.738429</td>\n",
       "      <td>110.202085</td>\n",
       "      <td>115.783694</td>\n",
       "      <td>59.942307</td>\n",
       "      <td>48.174901</td>\n",
       "      <td>41.912373</td>\n",
       "      <td>2.789620</td>\n",
       "      <td>6/21/2013</td>\n",
       "      <td>1</td>\n",
       "    </tr>\n",
       "    <tr>\n",
       "      <th>...</th>\n",
       "      <td>...</td>\n",
       "      <td>...</td>\n",
       "      <td>...</td>\n",
       "      <td>...</td>\n",
       "      <td>...</td>\n",
       "      <td>...</td>\n",
       "      <td>...</td>\n",
       "      <td>...</td>\n",
       "      <td>...</td>\n",
       "      <td>...</td>\n",
       "    </tr>\n",
       "    <tr>\n",
       "      <th>3356</th>\n",
       "      <td>21660.59684</td>\n",
       "      <td>20094.140530</td>\n",
       "      <td>20361.833980</td>\n",
       "      <td>25210.278940</td>\n",
       "      <td>67.916013</td>\n",
       "      <td>47.741136</td>\n",
       "      <td>34.550735</td>\n",
       "      <td>5.318842</td>\n",
       "      <td>7/7/2022</td>\n",
       "      <td>1</td>\n",
       "    </tr>\n",
       "    <tr>\n",
       "      <th>3357</th>\n",
       "      <td>21858.81875</td>\n",
       "      <td>20444.336430</td>\n",
       "      <td>20502.404030</td>\n",
       "      <td>25039.807190</td>\n",
       "      <td>69.905360</td>\n",
       "      <td>49.062442</td>\n",
       "      <td>35.616910</td>\n",
       "      <td>0.915127</td>\n",
       "      <td>7/8/2022</td>\n",
       "      <td>1</td>\n",
       "    </tr>\n",
       "    <tr>\n",
       "      <th>3358</th>\n",
       "      <td>21589.62810</td>\n",
       "      <td>20775.965160</td>\n",
       "      <td>20556.064830</td>\n",
       "      <td>24886.463480</td>\n",
       "      <td>63.652314</td>\n",
       "      <td>47.312932</td>\n",
       "      <td>36.428379</td>\n",
       "      <td>-1.231497</td>\n",
       "      <td>7/9/2022</td>\n",
       "      <td>0</td>\n",
       "    </tr>\n",
       "    <tr>\n",
       "      <th>3359</th>\n",
       "      <td>20859.81408</td>\n",
       "      <td>20997.333850</td>\n",
       "      <td>20567.217590</td>\n",
       "      <td>24713.829600</td>\n",
       "      <td>49.614769</td>\n",
       "      <td>42.851539</td>\n",
       "      <td>36.854821</td>\n",
       "      <td>-3.380392</td>\n",
       "      <td>7/10/2022</td>\n",
       "      <td>0</td>\n",
       "    </tr>\n",
       "    <tr>\n",
       "      <th>3360</th>\n",
       "      <td>20561.58785</td>\n",
       "      <td>21040.844640</td>\n",
       "      <td>20560.250790</td>\n",
       "      <td>24518.040350</td>\n",
       "      <td>44.894660</td>\n",
       "      <td>41.144209</td>\n",
       "      <td>37.105368</td>\n",
       "      <td>-1.429669</td>\n",
       "      <td>7/11/2022</td>\n",
       "      <td>0</td>\n",
       "    </tr>\n",
       "  </tbody>\n",
       "</table>\n",
       "<p>3312 rows × 10 columns</p>\n",
       "</div>"
      ],
      "text/plain": [
       "            Price          MA 7         MA 20         MA 50      RSI 7  \\\n",
       "49      100.42000    103.552571    114.668585    117.827694  30.866504   \n",
       "50      102.00000    102.982571    113.309635    117.161694  36.277552   \n",
       "51      106.55000    102.646857    112.030635    116.453494  49.545260   \n",
       "52      107.90000    102.575429    111.055585    115.905494  52.937217   \n",
       "53      110.91000    103.738429    110.202085    115.783694  59.942307   \n",
       "...           ...           ...           ...           ...        ...   \n",
       "3356  21660.59684  20094.140530  20361.833980  25210.278940  67.916013   \n",
       "3357  21858.81875  20444.336430  20502.404030  25039.807190  69.905360   \n",
       "3358  21589.62810  20775.965160  20556.064830  24886.463480  63.652314   \n",
       "3359  20859.81408  20997.333850  20567.217590  24713.829600  49.614769   \n",
       "3360  20561.58785  21040.844640  20560.250790  24518.040350  44.894660   \n",
       "\n",
       "         RSI 14     RSI 21         %       Date  Positive  \n",
       "49    34.753876  40.639036  0.430043  6/17/2013         1  \n",
       "50    36.939573  40.490203  1.573392  6/18/2013         1  \n",
       "51    42.874362  40.828316  4.460784  6/19/2013         1  \n",
       "52    44.542067  41.249402  1.267011  6/20/2013         1  \n",
       "53    48.174901  41.912373  2.789620  6/21/2013         1  \n",
       "...         ...        ...       ...        ...       ...  \n",
       "3356  47.741136  34.550735  5.318842   7/7/2022         1  \n",
       "3357  49.062442  35.616910  0.915127   7/8/2022         1  \n",
       "3358  47.312932  36.428379 -1.231497   7/9/2022         0  \n",
       "3359  42.851539  36.854821 -3.380392  7/10/2022         0  \n",
       "3360  41.144209  37.105368 -1.429669  7/11/2022         0  \n",
       "\n",
       "[3312 rows x 10 columns]"
      ]
     },
     "execution_count": 272,
     "metadata": {},
     "output_type": "execute_result"
    }
   ],
   "source": [
    "# Dropping the rows with NaN (1.5% of data because the calculation of MA 50 can only begin after the 50th entry)\n",
    "df = df.dropna(axis=0)\n",
    "df"
   ]
  },
  {
   "cell_type": "code",
   "execution_count": 273,
   "metadata": {},
   "outputs": [],
   "source": [
    "# Rearranging the columns\n",
    "df = df[[column for column in df if column not in ['Price', '%', 'Date', 'Positive']] + ['Price', '%', 'Date', 'Positive']]"
   ]
  },
  {
   "cell_type": "code",
   "execution_count": 274,
   "metadata": {},
   "outputs": [
    {
     "name": "stdout",
     "output_type": "stream",
     "text": [
      "<class 'pandas.core.frame.DataFrame'>\n",
      "Int64Index: 3312 entries, 49 to 3360\n",
      "Data columns (total 10 columns):\n",
      " #   Column    Non-Null Count  Dtype  \n",
      "---  ------    --------------  -----  \n",
      " 0   MA 7      3312 non-null   float64\n",
      " 1   MA 20     3312 non-null   float64\n",
      " 2   MA 50     3312 non-null   float64\n",
      " 3   RSI 7     3312 non-null   float64\n",
      " 4   RSI 14    3312 non-null   float64\n",
      " 5   RSI 21    3312 non-null   float64\n",
      " 6   Price     3312 non-null   float64\n",
      " 7   %         3312 non-null   float64\n",
      " 8   Date      3312 non-null   object \n",
      " 9   Positive  3312 non-null   int64  \n",
      "dtypes: float64(8), int64(1), object(1)\n",
      "memory usage: 284.6+ KB\n"
     ]
    }
   ],
   "source": [
    "df.info()"
   ]
  },
  {
   "cell_type": "code",
   "execution_count": 275,
   "metadata": {},
   "outputs": [],
   "source": [
    "# Turning the Date column into datetime:\n",
    "df['Date'] = pd.to_datetime(df['Date'], format='%m/%d/%Y')"
   ]
  },
  {
   "cell_type": "code",
   "execution_count": 276,
   "metadata": {},
   "outputs": [
    {
     "data": {
      "text/html": [
       "<div>\n",
       "<style scoped>\n",
       "    .dataframe tbody tr th:only-of-type {\n",
       "        vertical-align: middle;\n",
       "    }\n",
       "\n",
       "    .dataframe tbody tr th {\n",
       "        vertical-align: top;\n",
       "    }\n",
       "\n",
       "    .dataframe thead th {\n",
       "        text-align: right;\n",
       "    }\n",
       "</style>\n",
       "<table border=\"1\" class=\"dataframe\">\n",
       "  <thead>\n",
       "    <tr style=\"text-align: right;\">\n",
       "      <th></th>\n",
       "      <th>count</th>\n",
       "      <th>mean</th>\n",
       "      <th>std</th>\n",
       "      <th>min</th>\n",
       "      <th>25%</th>\n",
       "      <th>50%</th>\n",
       "      <th>75%</th>\n",
       "      <th>max</th>\n",
       "    </tr>\n",
       "  </thead>\n",
       "  <tbody>\n",
       "    <tr>\n",
       "      <th>MA 7</th>\n",
       "      <td>3312.0</td>\n",
       "      <td>10789.392511</td>\n",
       "      <td>15931.436299</td>\n",
       "      <td>74.866514</td>\n",
       "      <td>479.692479</td>\n",
       "      <td>4035.853812</td>\n",
       "      <td>10390.953705</td>\n",
       "      <td>65652.921590</td>\n",
       "    </tr>\n",
       "    <tr>\n",
       "      <th>MA 20</th>\n",
       "      <td>3312.0</td>\n",
       "      <td>10749.616917</td>\n",
       "      <td>15891.516170</td>\n",
       "      <td>86.263365</td>\n",
       "      <td>476.023969</td>\n",
       "      <td>3980.699606</td>\n",
       "      <td>10324.394610</td>\n",
       "      <td>63273.821420</td>\n",
       "    </tr>\n",
       "    <tr>\n",
       "      <th>MA 50</th>\n",
       "      <td>3312.0</td>\n",
       "      <td>10645.026147</td>\n",
       "      <td>15783.504747</td>\n",
       "      <td>94.914040</td>\n",
       "      <td>491.982507</td>\n",
       "      <td>4033.665576</td>\n",
       "      <td>10354.572495</td>\n",
       "      <td>60993.407540</td>\n",
       "    </tr>\n",
       "    <tr>\n",
       "      <th>RSI 7</th>\n",
       "      <td>3312.0</td>\n",
       "      <td>53.306769</td>\n",
       "      <td>18.859297</td>\n",
       "      <td>4.564401</td>\n",
       "      <td>39.952607</td>\n",
       "      <td>51.690606</td>\n",
       "      <td>66.969438</td>\n",
       "      <td>99.013299</td>\n",
       "    </tr>\n",
       "    <tr>\n",
       "      <th>RSI 14</th>\n",
       "      <td>3312.0</td>\n",
       "      <td>53.017788</td>\n",
       "      <td>14.504951</td>\n",
       "      <td>10.477495</td>\n",
       "      <td>42.716730</td>\n",
       "      <td>51.788748</td>\n",
       "      <td>62.345692</td>\n",
       "      <td>94.144798</td>\n",
       "    </tr>\n",
       "    <tr>\n",
       "      <th>RSI 21</th>\n",
       "      <td>3312.0</td>\n",
       "      <td>52.809121</td>\n",
       "      <td>11.265455</td>\n",
       "      <td>22.350116</td>\n",
       "      <td>44.170123</td>\n",
       "      <td>51.856742</td>\n",
       "      <td>60.470151</td>\n",
       "      <td>85.263914</td>\n",
       "    </tr>\n",
       "    <tr>\n",
       "      <th>Price</th>\n",
       "      <td>3312.0</td>\n",
       "      <td>10808.428892</td>\n",
       "      <td>15951.029438</td>\n",
       "      <td>67.809000</td>\n",
       "      <td>480.512500</td>\n",
       "      <td>4083.383020</td>\n",
       "      <td>10359.911915</td>\n",
       "      <td>67617.015540</td>\n",
       "    </tr>\n",
       "    <tr>\n",
       "      <th>%</th>\n",
       "      <td>3312.0</td>\n",
       "      <td>0.244955</td>\n",
       "      <td>4.090315</td>\n",
       "      <td>-35.190269</td>\n",
       "      <td>-1.385385</td>\n",
       "      <td>0.206626</td>\n",
       "      <td>1.891969</td>\n",
       "      <td>33.255625</td>\n",
       "    </tr>\n",
       "    <tr>\n",
       "      <th>Positive</th>\n",
       "      <td>3312.0</td>\n",
       "      <td>0.539553</td>\n",
       "      <td>0.498508</td>\n",
       "      <td>0.000000</td>\n",
       "      <td>0.000000</td>\n",
       "      <td>1.000000</td>\n",
       "      <td>1.000000</td>\n",
       "      <td>1.000000</td>\n",
       "    </tr>\n",
       "  </tbody>\n",
       "</table>\n",
       "</div>"
      ],
      "text/plain": [
       "           count          mean           std        min         25%  \\\n",
       "MA 7      3312.0  10789.392511  15931.436299  74.866514  479.692479   \n",
       "MA 20     3312.0  10749.616917  15891.516170  86.263365  476.023969   \n",
       "MA 50     3312.0  10645.026147  15783.504747  94.914040  491.982507   \n",
       "RSI 7     3312.0     53.306769     18.859297   4.564401   39.952607   \n",
       "RSI 14    3312.0     53.017788     14.504951  10.477495   42.716730   \n",
       "RSI 21    3312.0     52.809121     11.265455  22.350116   44.170123   \n",
       "Price     3312.0  10808.428892  15951.029438  67.809000  480.512500   \n",
       "%         3312.0      0.244955      4.090315 -35.190269   -1.385385   \n",
       "Positive  3312.0      0.539553      0.498508   0.000000    0.000000   \n",
       "\n",
       "                  50%           75%           max  \n",
       "MA 7      4035.853812  10390.953705  65652.921590  \n",
       "MA 20     3980.699606  10324.394610  63273.821420  \n",
       "MA 50     4033.665576  10354.572495  60993.407540  \n",
       "RSI 7       51.690606     66.969438     99.013299  \n",
       "RSI 14      51.788748     62.345692     94.144798  \n",
       "RSI 21      51.856742     60.470151     85.263914  \n",
       "Price     4083.383020  10359.911915  67617.015540  \n",
       "%            0.206626      1.891969     33.255625  \n",
       "Positive     1.000000      1.000000      1.000000  "
      ]
     },
     "execution_count": 276,
     "metadata": {},
     "output_type": "execute_result"
    }
   ],
   "source": [
    "df.describe().T"
   ]
  },
  {
   "cell_type": "markdown",
   "metadata": {},
   "source": [
    "# Splitting the data before training different models"
   ]
  },
  {
   "cell_type": "code",
   "execution_count": 277,
   "metadata": {},
   "outputs": [],
   "source": [
    "from sklearn.model_selection import train_test_split"
   ]
  },
  {
   "cell_type": "code",
   "execution_count": 278,
   "metadata": {},
   "outputs": [],
   "source": [
    "X = df.drop(['Price', '%', 'Date', 'Positive'], axis=1)\n",
    "y = df['Positive']"
   ]
  },
  {
   "cell_type": "code",
   "execution_count": 279,
   "metadata": {},
   "outputs": [
    {
     "data": {
      "text/html": [
       "<div>\n",
       "<style scoped>\n",
       "    .dataframe tbody tr th:only-of-type {\n",
       "        vertical-align: middle;\n",
       "    }\n",
       "\n",
       "    .dataframe tbody tr th {\n",
       "        vertical-align: top;\n",
       "    }\n",
       "\n",
       "    .dataframe thead th {\n",
       "        text-align: right;\n",
       "    }\n",
       "</style>\n",
       "<table border=\"1\" class=\"dataframe\">\n",
       "  <thead>\n",
       "    <tr style=\"text-align: right;\">\n",
       "      <th></th>\n",
       "      <th>MA 7</th>\n",
       "      <th>MA 20</th>\n",
       "      <th>MA 50</th>\n",
       "      <th>RSI 7</th>\n",
       "      <th>RSI 14</th>\n",
       "      <th>RSI 21</th>\n",
       "    </tr>\n",
       "  </thead>\n",
       "  <tbody>\n",
       "    <tr>\n",
       "      <th>49</th>\n",
       "      <td>103.552571</td>\n",
       "      <td>114.668585</td>\n",
       "      <td>117.827694</td>\n",
       "      <td>30.866504</td>\n",
       "      <td>34.753876</td>\n",
       "      <td>40.639036</td>\n",
       "    </tr>\n",
       "    <tr>\n",
       "      <th>50</th>\n",
       "      <td>102.982571</td>\n",
       "      <td>113.309635</td>\n",
       "      <td>117.161694</td>\n",
       "      <td>36.277552</td>\n",
       "      <td>36.939573</td>\n",
       "      <td>40.490203</td>\n",
       "    </tr>\n",
       "    <tr>\n",
       "      <th>51</th>\n",
       "      <td>102.646857</td>\n",
       "      <td>112.030635</td>\n",
       "      <td>116.453494</td>\n",
       "      <td>49.545260</td>\n",
       "      <td>42.874362</td>\n",
       "      <td>40.828316</td>\n",
       "    </tr>\n",
       "  </tbody>\n",
       "</table>\n",
       "</div>"
      ],
      "text/plain": [
       "          MA 7       MA 20       MA 50      RSI 7     RSI 14     RSI 21\n",
       "49  103.552571  114.668585  117.827694  30.866504  34.753876  40.639036\n",
       "50  102.982571  113.309635  117.161694  36.277552  36.939573  40.490203\n",
       "51  102.646857  112.030635  116.453494  49.545260  42.874362  40.828316"
      ]
     },
     "execution_count": 279,
     "metadata": {},
     "output_type": "execute_result"
    }
   ],
   "source": [
    "X.head(3)"
   ]
  },
  {
   "cell_type": "code",
   "execution_count": 280,
   "metadata": {},
   "outputs": [
    {
     "data": {
      "text/plain": [
       "49    1\n",
       "50    1\n",
       "51    1\n",
       "Name: Positive, dtype: int64"
      ]
     },
     "execution_count": 280,
     "metadata": {},
     "output_type": "execute_result"
    }
   ],
   "source": [
    "y.head(3)"
   ]
  },
  {
   "cell_type": "code",
   "execution_count": 281,
   "metadata": {},
   "outputs": [],
   "source": [
    "X_train, X_test, y_train, y_test = train_test_split(X, y, test_size=0.2, random_state=42)"
   ]
  },
  {
   "cell_type": "code",
   "execution_count": 282,
   "metadata": {},
   "outputs": [
    {
     "name": "stdout",
     "output_type": "stream",
     "text": [
      "(2649, 6)\n",
      "(663, 6)\n"
     ]
    }
   ],
   "source": [
    "print(X_train.shape)\n",
    "print(X_test.shape)"
   ]
  },
  {
   "cell_type": "markdown",
   "metadata": {},
   "source": [
    "# Scaling the data"
   ]
  },
  {
   "cell_type": "code",
   "execution_count": 283,
   "metadata": {},
   "outputs": [],
   "source": [
    "from sklearn.preprocessing import StandardScaler"
   ]
  },
  {
   "cell_type": "code",
   "execution_count": 284,
   "metadata": {},
   "outputs": [
    {
     "data": {
      "text/html": [
       "<style>#sk-container-id-8 {color: black;background-color: white;}#sk-container-id-8 pre{padding: 0;}#sk-container-id-8 div.sk-toggleable {background-color: white;}#sk-container-id-8 label.sk-toggleable__label {cursor: pointer;display: block;width: 100%;margin-bottom: 0;padding: 0.3em;box-sizing: border-box;text-align: center;}#sk-container-id-8 label.sk-toggleable__label-arrow:before {content: \"▸\";float: left;margin-right: 0.25em;color: #696969;}#sk-container-id-8 label.sk-toggleable__label-arrow:hover:before {color: black;}#sk-container-id-8 div.sk-estimator:hover label.sk-toggleable__label-arrow:before {color: black;}#sk-container-id-8 div.sk-toggleable__content {max-height: 0;max-width: 0;overflow: hidden;text-align: left;background-color: #f0f8ff;}#sk-container-id-8 div.sk-toggleable__content pre {margin: 0.2em;color: black;border-radius: 0.25em;background-color: #f0f8ff;}#sk-container-id-8 input.sk-toggleable__control:checked~div.sk-toggleable__content {max-height: 200px;max-width: 100%;overflow: auto;}#sk-container-id-8 input.sk-toggleable__control:checked~label.sk-toggleable__label-arrow:before {content: \"▾\";}#sk-container-id-8 div.sk-estimator input.sk-toggleable__control:checked~label.sk-toggleable__label {background-color: #d4ebff;}#sk-container-id-8 div.sk-label input.sk-toggleable__control:checked~label.sk-toggleable__label {background-color: #d4ebff;}#sk-container-id-8 input.sk-hidden--visually {border: 0;clip: rect(1px 1px 1px 1px);clip: rect(1px, 1px, 1px, 1px);height: 1px;margin: -1px;overflow: hidden;padding: 0;position: absolute;width: 1px;}#sk-container-id-8 div.sk-estimator {font-family: monospace;background-color: #f0f8ff;border: 1px dotted black;border-radius: 0.25em;box-sizing: border-box;margin-bottom: 0.5em;}#sk-container-id-8 div.sk-estimator:hover {background-color: #d4ebff;}#sk-container-id-8 div.sk-parallel-item::after {content: \"\";width: 100%;border-bottom: 1px solid gray;flex-grow: 1;}#sk-container-id-8 div.sk-label:hover label.sk-toggleable__label {background-color: #d4ebff;}#sk-container-id-8 div.sk-serial::before {content: \"\";position: absolute;border-left: 1px solid gray;box-sizing: border-box;top: 0;bottom: 0;left: 50%;z-index: 0;}#sk-container-id-8 div.sk-serial {display: flex;flex-direction: column;align-items: center;background-color: white;padding-right: 0.2em;padding-left: 0.2em;position: relative;}#sk-container-id-8 div.sk-item {position: relative;z-index: 1;}#sk-container-id-8 div.sk-parallel {display: flex;align-items: stretch;justify-content: center;background-color: white;position: relative;}#sk-container-id-8 div.sk-item::before, #sk-container-id-8 div.sk-parallel-item::before {content: \"\";position: absolute;border-left: 1px solid gray;box-sizing: border-box;top: 0;bottom: 0;left: 50%;z-index: -1;}#sk-container-id-8 div.sk-parallel-item {display: flex;flex-direction: column;z-index: 1;position: relative;background-color: white;}#sk-container-id-8 div.sk-parallel-item:first-child::after {align-self: flex-end;width: 50%;}#sk-container-id-8 div.sk-parallel-item:last-child::after {align-self: flex-start;width: 50%;}#sk-container-id-8 div.sk-parallel-item:only-child::after {width: 0;}#sk-container-id-8 div.sk-dashed-wrapped {border: 1px dashed gray;margin: 0 0.4em 0.5em 0.4em;box-sizing: border-box;padding-bottom: 0.4em;background-color: white;}#sk-container-id-8 div.sk-label label {font-family: monospace;font-weight: bold;display: inline-block;line-height: 1.2em;}#sk-container-id-8 div.sk-label-container {text-align: center;}#sk-container-id-8 div.sk-container {/* jupyter's `normalize.less` sets `[hidden] { display: none; }` but bootstrap.min.css set `[hidden] { display: none !important; }` so we also need the `!important` here to be able to override the default hidden behavior on the sphinx rendered scikit-learn.org. See: https://github.com/scikit-learn/scikit-learn/issues/21755 */display: inline-block !important;position: relative;}#sk-container-id-8 div.sk-text-repr-fallback {display: none;}</style><div id=\"sk-container-id-8\" class=\"sk-top-container\"><div class=\"sk-text-repr-fallback\"><pre>StandardScaler()</pre><b>In a Jupyter environment, please rerun this cell to show the HTML representation or trust the notebook. <br />On GitHub, the HTML representation is unable to render, please try loading this page with nbviewer.org.</b></div><div class=\"sk-container\" hidden><div class=\"sk-item\"><div class=\"sk-estimator sk-toggleable\"><input class=\"sk-toggleable__control sk-hidden--visually\" id=\"sk-estimator-id-8\" type=\"checkbox\" checked><label for=\"sk-estimator-id-8\" class=\"sk-toggleable__label sk-toggleable__label-arrow\">StandardScaler</label><div class=\"sk-toggleable__content\"><pre>StandardScaler()</pre></div></div></div></div></div>"
      ],
      "text/plain": [
       "StandardScaler()"
      ]
     },
     "execution_count": 284,
     "metadata": {},
     "output_type": "execute_result"
    }
   ],
   "source": [
    "scaler = StandardScaler()\n",
    "scaler.fit(X_train) # Only fit to the training set to prevent data leakage."
   ]
  },
  {
   "cell_type": "code",
   "execution_count": 285,
   "metadata": {},
   "outputs": [],
   "source": [
    "scaled_X_train = scaler.transform(X_train)\n",
    "scaled_X_test = scaler.transform(X_test)"
   ]
  },
  {
   "cell_type": "code",
   "execution_count": 286,
   "metadata": {},
   "outputs": [],
   "source": [
    "from sklearn.linear_model import LogisticRegression\n",
    "from sklearn.svm import SVC\n",
    "from sklearn.ensemble import RandomForestClassifier\n",
    "from sklearn.ensemble import GradientBoostingClassifier\n",
    "from sklearn.model_selection import GridSearchCV, RandomizedSearchCV\n",
    "from sklearn.model_selection import train_test_split\n",
    "from sklearn.tree import DecisionTreeClassifier\n",
    "from sklearn.naive_bayes import MultinomialNB\n",
    "from sklearn.neighbors import KNeighborsClassifier\n",
    "from sklearn.pipeline import Pipeline\n",
    "from sklearn.metrics import *"
   ]
  },
  {
   "cell_type": "code",
   "execution_count": 287,
   "metadata": {},
   "outputs": [],
   "source": [
    "# Initialization of the estimators\n",
    "clf1 = RandomForestClassifier(random_state=42)\n",
    "clf2 = SVC(probability=True, random_state=42)\n",
    "clf3 = LogisticRegression(random_state=42)\n",
    "clf4 = DecisionTreeClassifier(random_state=42)\n",
    "clf5 = KNeighborsClassifier()\n",
    "clf6 = MultinomialNB()\n",
    "clf7 = GradientBoostingClassifier(random_state=42)"
   ]
  },
  {
   "cell_type": "code",
   "execution_count": 288,
   "metadata": {},
   "outputs": [],
   "source": [
    "# Initialization of the hyperparameters grids for each model.\n",
    "\n",
    "param1 = {}\n",
    "param1['classifier__n_estimators'] = [10, 50, 100, 250]\n",
    "param1['classifier__max_depth'] = [5, 10, 20]\n",
    "param1['classifier__class_weight'] = [None, {0:1,1:5}, {0:1,1:10}, {0:1,1:25}]\n",
    "param1['classifier'] = [clf1]\n",
    "\n",
    "param2 = {}\n",
    "param2['classifier__C'] = [10**-2, 10**-1, 10**0, 10**1, 10**2]\n",
    "param2['classifier__class_weight'] = [None, {0:1,1:5}, {0:1,1:10}, {0:1,1:25}]\n",
    "param2['classifier'] = [clf2]\n",
    "\n",
    "param3 = {}\n",
    "param3['classifier__C'] = [10**-2, 10**-1, 10**0, 10**1, 10**2]\n",
    "param3['classifier__penalty'] = ['l1', 'l2']\n",
    "param3['classifier__class_weight'] = [None, {0:1,1:5}, {0:1,1:10}, {0:1,1:25}]\n",
    "param3['classifier'] = [clf3]\n",
    "\n",
    "param4 = {}\n",
    "param4['classifier__max_depth'] = [5,10,25,None]\n",
    "param4['classifier__min_samples_split'] = [2,5,10]\n",
    "param4['classifier__class_weight'] = [None, {0:1,1:5}, {0:1,1:10}, {0:1,1:25}]\n",
    "param4['classifier'] = [clf4]\n",
    "\n",
    "param5 = {}\n",
    "param5['classifier__n_neighbors'] = [2,5,10,25,50]\n",
    "param5['classifier'] = [clf5]\n",
    "\n",
    "param6 = {}\n",
    "param6['classifier__alpha'] = [10**0, 10**1, 10**2]\n",
    "param6['classifier'] = [clf6]\n",
    "\n",
    "param7 = {}\n",
    "param7['classifier__n_estimators'] = [10, 50, 100, 250]\n",
    "param7['classifier__max_depth'] = [5, 10, 20]\n",
    "param7['classifier'] = [clf7]"
   ]
  },
  {
   "cell_type": "code",
   "execution_count": 289,
   "metadata": {},
   "outputs": [],
   "source": [
    "pipeline = Pipeline([('classifier', clf1)])\n",
    "params = [param2, param3, param4, param5, param6, param7]"
   ]
  },
  {
   "cell_type": "code",
   "execution_count": 290,
   "metadata": {},
   "outputs": [
    {
     "name": "stdout",
     "output_type": "stream",
     "text": [
      "CPU times: total: 156 ms\n",
      "Wall time: 35.3 s\n"
     ]
    },
    {
     "name": "stderr",
     "output_type": "stream",
     "text": [
      "c:\\Development\\Machine Learning\\bitcoin-price-prediction\\env\\lib\\site-packages\\sklearn\\model_selection\\_validation.py:378: FitFailedWarning: \n",
      "69 fits failed out of a total of 384.\n",
      "The score on these train-test partitions for these parameters will be set to nan.\n",
      "If these failures are not expected, you can try to debug them by setting error_score='raise'.\n",
      "\n",
      "Below are more details about the failures:\n",
      "--------------------------------------------------------------------------------\n",
      "60 fits failed with the following error:\n",
      "Traceback (most recent call last):\n",
      "  File \"c:\\Development\\Machine Learning\\bitcoin-price-prediction\\env\\lib\\site-packages\\sklearn\\model_selection\\_validation.py\", line 686, in _fit_and_score\n",
      "    estimator.fit(X_train, y_train, **fit_params)\n",
      "  File \"c:\\Development\\Machine Learning\\bitcoin-price-prediction\\env\\lib\\site-packages\\sklearn\\pipeline.py\", line 382, in fit\n",
      "    self._final_estimator.fit(Xt, y, **fit_params_last_step)\n",
      "  File \"c:\\Development\\Machine Learning\\bitcoin-price-prediction\\env\\lib\\site-packages\\sklearn\\linear_model\\_logistic.py\", line 1091, in fit\n",
      "    solver = _check_solver(self.solver, self.penalty, self.dual)\n",
      "  File \"c:\\Development\\Machine Learning\\bitcoin-price-prediction\\env\\lib\\site-packages\\sklearn\\linear_model\\_logistic.py\", line 61, in _check_solver\n",
      "    raise ValueError(\n",
      "ValueError: Solver lbfgs supports only 'l2' or 'none' penalties, got l1 penalty.\n",
      "\n",
      "--------------------------------------------------------------------------------\n",
      "9 fits failed with the following error:\n",
      "Traceback (most recent call last):\n",
      "  File \"c:\\Development\\Machine Learning\\bitcoin-price-prediction\\env\\lib\\site-packages\\sklearn\\model_selection\\_validation.py\", line 686, in _fit_and_score\n",
      "    estimator.fit(X_train, y_train, **fit_params)\n",
      "  File \"c:\\Development\\Machine Learning\\bitcoin-price-prediction\\env\\lib\\site-packages\\sklearn\\pipeline.py\", line 382, in fit\n",
      "    self._final_estimator.fit(Xt, y, **fit_params_last_step)\n",
      "  File \"c:\\Development\\Machine Learning\\bitcoin-price-prediction\\env\\lib\\site-packages\\sklearn\\naive_bayes.py\", line 726, in fit\n",
      "    self._count(X, Y)\n",
      "  File \"c:\\Development\\Machine Learning\\bitcoin-price-prediction\\env\\lib\\site-packages\\sklearn\\naive_bayes.py\", line 851, in _count\n",
      "    check_non_negative(X, \"MultinomialNB (input X)\")\n",
      "  File \"c:\\Development\\Machine Learning\\bitcoin-price-prediction\\env\\lib\\site-packages\\sklearn\\utils\\validation.py\", line 1372, in check_non_negative\n",
      "    raise ValueError(\"Negative values in data passed to %s\" % whom)\n",
      "ValueError: Negative values in data passed to MultinomialNB (input X)\n",
      "\n",
      "  warnings.warn(some_fits_failed_message, FitFailedWarning)\n",
      "c:\\Development\\Machine Learning\\bitcoin-price-prediction\\env\\lib\\site-packages\\sklearn\\model_selection\\_search.py:953: UserWarning: One or more of the test scores are non-finite: [0.69888178 0.69635811 0.69635811 0.69635811 0.67888766 0.69635811\n",
      " 0.69635811 0.69635811 0.69456492 0.6977585  0.69635811 0.69635811\n",
      " 0.69776059 0.70305722 0.70019985 0.69861655 0.70187859 0.70619952\n",
      " 0.70339962 0.70298508        nan 0.69368337        nan 0.69842162\n",
      "        nan 0.69635811        nan 0.69635811        nan 0.69746572\n",
      "        nan 0.70389572        nan 0.69635811        nan 0.69635811\n",
      "        nan 0.70962536        nan 0.71018085        nan 0.69758232\n",
      "        nan 0.69635811        nan 0.71499463        nan 0.71359323\n",
      "        nan 0.69913465        nan 0.69635811        nan 0.71461044\n",
      "        nan 0.71381129        nan 0.69913465        nan 0.69635811\n",
      " 0.67432844 0.67432844 0.67409746 0.64069357 0.64042492 0.64145855\n",
      " 0.59540176 0.58515117 0.60573657 0.59429434 0.58337508 0.6028964\n",
      " 0.70470925 0.70470925 0.70470925 0.68932106 0.69201998 0.69246581\n",
      " 0.60848271 0.62783516 0.64839568 0.5926557  0.61395829 0.63876198\n",
      " 0.70164065 0.70145844 0.70145844 0.69661208 0.69513301 0.69455229\n",
      " 0.60641553 0.62949081 0.65305043 0.58447619 0.61091733 0.64262754\n",
      " 0.69905797 0.69888475 0.69888475 0.69846337 0.69706964 0.69899596\n",
      " 0.61912544 0.64202744 0.65953913 0.58310112 0.62081445 0.6467789\n",
      " 0.46484102 0.64002253 0.63343569 0.66232217 0.67368623        nan\n",
      "        nan        nan 0.6781671  0.66945113 0.65631461 0.64618366\n",
      " 0.6450733  0.64473094 0.63464802 0.62803007 0.60297032 0.60047201\n",
      " 0.59732621 0.59871275]\n",
      "  warnings.warn(\n"
     ]
    }
   ],
   "source": [
    "%%time\n",
    "# Train the grid search model\n",
    "gs = GridSearchCV(pipeline, params, cv=3, n_jobs=-1, scoring='f1').fit(scaled_X_train, y_train)"
   ]
  },
  {
   "cell_type": "code",
   "execution_count": 291,
   "metadata": {},
   "outputs": [
    {
     "data": {
      "text/plain": [
       "{'classifier': LogisticRegression(C=10, random_state=42),\n",
       " 'classifier__C': 10,\n",
       " 'classifier__class_weight': None,\n",
       " 'classifier__penalty': 'l2'}"
      ]
     },
     "execution_count": 291,
     "metadata": {},
     "output_type": "execute_result"
    }
   ],
   "source": [
    "gs.best_params_"
   ]
  },
  {
   "cell_type": "code",
   "execution_count": 292,
   "metadata": {},
   "outputs": [
    {
     "data": {
      "text/plain": [
       "0.714994632870673"
      ]
     },
     "execution_count": 292,
     "metadata": {},
     "output_type": "execute_result"
    }
   ],
   "source": [
    "gs.best_score_"
   ]
  },
  {
   "cell_type": "code",
   "execution_count": 293,
   "metadata": {},
   "outputs": [
    {
     "name": "stdout",
     "output_type": "stream",
     "text": [
      "Test Precision: 0.7526881720430108\n",
      "Test Recall: 0.7407407407407407\n",
      "Test F1 Score: 0.7466666666666667\n"
     ]
    }
   ],
   "source": [
    "# Test data performance\n",
    "print(\"Test Precision:\",precision_score(gs.predict(scaled_X_test), y_test))\n",
    "print(\"Test Recall:\",recall_score(gs.predict(scaled_X_test), y_test))\n",
    "print(\"Test F1 Score:\",f1_score(gs.predict(scaled_X_test), y_test))"
   ]
  },
  {
   "cell_type": "code",
   "execution_count": 294,
   "metadata": {},
   "outputs": [],
   "source": [
    "final_model = LogisticRegression(C=10, class_weight=None, penalty='l2', random_state=42)"
   ]
  },
  {
   "cell_type": "code",
   "execution_count": 295,
   "metadata": {},
   "outputs": [
    {
     "data": {
      "text/html": [
       "<style>#sk-container-id-9 {color: black;background-color: white;}#sk-container-id-9 pre{padding: 0;}#sk-container-id-9 div.sk-toggleable {background-color: white;}#sk-container-id-9 label.sk-toggleable__label {cursor: pointer;display: block;width: 100%;margin-bottom: 0;padding: 0.3em;box-sizing: border-box;text-align: center;}#sk-container-id-9 label.sk-toggleable__label-arrow:before {content: \"▸\";float: left;margin-right: 0.25em;color: #696969;}#sk-container-id-9 label.sk-toggleable__label-arrow:hover:before {color: black;}#sk-container-id-9 div.sk-estimator:hover label.sk-toggleable__label-arrow:before {color: black;}#sk-container-id-9 div.sk-toggleable__content {max-height: 0;max-width: 0;overflow: hidden;text-align: left;background-color: #f0f8ff;}#sk-container-id-9 div.sk-toggleable__content pre {margin: 0.2em;color: black;border-radius: 0.25em;background-color: #f0f8ff;}#sk-container-id-9 input.sk-toggleable__control:checked~div.sk-toggleable__content {max-height: 200px;max-width: 100%;overflow: auto;}#sk-container-id-9 input.sk-toggleable__control:checked~label.sk-toggleable__label-arrow:before {content: \"▾\";}#sk-container-id-9 div.sk-estimator input.sk-toggleable__control:checked~label.sk-toggleable__label {background-color: #d4ebff;}#sk-container-id-9 div.sk-label input.sk-toggleable__control:checked~label.sk-toggleable__label {background-color: #d4ebff;}#sk-container-id-9 input.sk-hidden--visually {border: 0;clip: rect(1px 1px 1px 1px);clip: rect(1px, 1px, 1px, 1px);height: 1px;margin: -1px;overflow: hidden;padding: 0;position: absolute;width: 1px;}#sk-container-id-9 div.sk-estimator {font-family: monospace;background-color: #f0f8ff;border: 1px dotted black;border-radius: 0.25em;box-sizing: border-box;margin-bottom: 0.5em;}#sk-container-id-9 div.sk-estimator:hover {background-color: #d4ebff;}#sk-container-id-9 div.sk-parallel-item::after {content: \"\";width: 100%;border-bottom: 1px solid gray;flex-grow: 1;}#sk-container-id-9 div.sk-label:hover label.sk-toggleable__label {background-color: #d4ebff;}#sk-container-id-9 div.sk-serial::before {content: \"\";position: absolute;border-left: 1px solid gray;box-sizing: border-box;top: 0;bottom: 0;left: 50%;z-index: 0;}#sk-container-id-9 div.sk-serial {display: flex;flex-direction: column;align-items: center;background-color: white;padding-right: 0.2em;padding-left: 0.2em;position: relative;}#sk-container-id-9 div.sk-item {position: relative;z-index: 1;}#sk-container-id-9 div.sk-parallel {display: flex;align-items: stretch;justify-content: center;background-color: white;position: relative;}#sk-container-id-9 div.sk-item::before, #sk-container-id-9 div.sk-parallel-item::before {content: \"\";position: absolute;border-left: 1px solid gray;box-sizing: border-box;top: 0;bottom: 0;left: 50%;z-index: -1;}#sk-container-id-9 div.sk-parallel-item {display: flex;flex-direction: column;z-index: 1;position: relative;background-color: white;}#sk-container-id-9 div.sk-parallel-item:first-child::after {align-self: flex-end;width: 50%;}#sk-container-id-9 div.sk-parallel-item:last-child::after {align-self: flex-start;width: 50%;}#sk-container-id-9 div.sk-parallel-item:only-child::after {width: 0;}#sk-container-id-9 div.sk-dashed-wrapped {border: 1px dashed gray;margin: 0 0.4em 0.5em 0.4em;box-sizing: border-box;padding-bottom: 0.4em;background-color: white;}#sk-container-id-9 div.sk-label label {font-family: monospace;font-weight: bold;display: inline-block;line-height: 1.2em;}#sk-container-id-9 div.sk-label-container {text-align: center;}#sk-container-id-9 div.sk-container {/* jupyter's `normalize.less` sets `[hidden] { display: none; }` but bootstrap.min.css set `[hidden] { display: none !important; }` so we also need the `!important` here to be able to override the default hidden behavior on the sphinx rendered scikit-learn.org. See: https://github.com/scikit-learn/scikit-learn/issues/21755 */display: inline-block !important;position: relative;}#sk-container-id-9 div.sk-text-repr-fallback {display: none;}</style><div id=\"sk-container-id-9\" class=\"sk-top-container\"><div class=\"sk-text-repr-fallback\"><pre>LogisticRegression(C=10, random_state=42)</pre><b>In a Jupyter environment, please rerun this cell to show the HTML representation or trust the notebook. <br />On GitHub, the HTML representation is unable to render, please try loading this page with nbviewer.org.</b></div><div class=\"sk-container\" hidden><div class=\"sk-item\"><div class=\"sk-estimator sk-toggleable\"><input class=\"sk-toggleable__control sk-hidden--visually\" id=\"sk-estimator-id-9\" type=\"checkbox\" checked><label for=\"sk-estimator-id-9\" class=\"sk-toggleable__label sk-toggleable__label-arrow\">LogisticRegression</label><div class=\"sk-toggleable__content\"><pre>LogisticRegression(C=10, random_state=42)</pre></div></div></div></div></div>"
      ],
      "text/plain": [
       "LogisticRegression(C=10, random_state=42)"
      ]
     },
     "execution_count": 295,
     "metadata": {},
     "output_type": "execute_result"
    }
   ],
   "source": [
    "final_model.fit(scaled_X_train, y_train)"
   ]
  },
  {
   "cell_type": "code",
   "execution_count": 296,
   "metadata": {},
   "outputs": [],
   "source": [
    "y_pred = final_model.predict(scaled_X_test)"
   ]
  },
  {
   "cell_type": "code",
   "execution_count": 297,
   "metadata": {},
   "outputs": [
    {
     "name": "stdout",
     "output_type": "stream",
     "text": [
      "              precision    recall  f1-score   support\n",
      "\n",
      "           0       0.68      0.66      0.67       291\n",
      "           1       0.74      0.75      0.75       372\n",
      "\n",
      "    accuracy                           0.71       663\n",
      "   macro avg       0.71      0.71      0.71       663\n",
      "weighted avg       0.71      0.71      0.71       663\n",
      "\n"
     ]
    }
   ],
   "source": [
    "print(classification_report(y_test, y_pred))"
   ]
  },
  {
   "cell_type": "code",
   "execution_count": 298,
   "metadata": {},
   "outputs": [
    {
     "name": "stderr",
     "output_type": "stream",
     "text": [
      "c:\\Development\\Machine Learning\\bitcoin-price-prediction\\env\\lib\\site-packages\\sklearn\\utils\\deprecation.py:87: FutureWarning: Function plot_confusion_matrix is deprecated; Function `plot_confusion_matrix` is deprecated in 1.0 and will be removed in 1.2. Use one of the class methods: ConfusionMatrixDisplay.from_predictions or ConfusionMatrixDisplay.from_estimator.\n",
      "  warnings.warn(msg, category=FutureWarning)\n"
     ]
    },
    {
     "data": {
      "text/plain": [
       "<sklearn.metrics._plot.confusion_matrix.ConfusionMatrixDisplay at 0x190a664e550>"
      ]
     },
     "execution_count": 298,
     "metadata": {},
     "output_type": "execute_result"
    },
    {
     "data": {
      "image/png": "[encoded data removed]",
      "text/plain": [
       "<Figure size 432x288 with 2 Axes>"
      ]
     },
     "metadata": {
      "needs_background": "light"
     },
     "output_type": "display_data"
    }
   ],
   "source": [
    "plot_confusion_matrix(final_model, scaled_X_test, y_test)"
   ]
  },
  {
   "cell_type": "code",
   "execution_count": 299,
   "metadata": {},
   "outputs": [],
   "source": [
    "# Scaling and fitting to the whole data now that we have found the best model:\n",
    "\n",
    "X_final = scaler.fit_transform(X)"
   ]
  },
  {
   "cell_type": "code",
   "execution_count": 300,
   "metadata": {},
   "outputs": [],
   "source": [
    "final_fitting = final_model.fit(X, y)"
   ]
  },
  {
   "cell_type": "code",
   "execution_count": 301,
   "metadata": {},
   "outputs": [
    {
     "name": "stderr",
     "output_type": "stream",
     "text": [
      "c:\\Development\\Machine Learning\\bitcoin-price-prediction\\env\\lib\\site-packages\\sklearn\\base.py:450: UserWarning: X does not have valid feature names, but LogisticRegression was fitted with feature names\n",
      "  warnings.warn(\n"
     ]
    }
   ],
   "source": [
    "y_pred_final = final_model.predict(X_final)"
   ]
  },
  {
   "cell_type": "code",
   "execution_count": 302,
   "metadata": {},
   "outputs": [
    {
     "name": "stdout",
     "output_type": "stream",
     "text": [
      "              precision    recall  f1-score   support\n",
      "\n",
      "           0       0.59      0.64      0.61      1525\n",
      "           1       0.67      0.62      0.64      1787\n",
      "\n",
      "    accuracy                           0.63      3312\n",
      "   macro avg       0.63      0.63      0.63      3312\n",
      "weighted avg       0.63      0.63      0.63      3312\n",
      "\n"
     ]
    }
   ],
   "source": [
    "print(classification_report(y, y_pred_final))"
   ]
  },
  {
   "cell_type": "code",
   "execution_count": 303,
   "metadata": {},
   "outputs": [
    {
     "name": "stderr",
     "output_type": "stream",
     "text": [
      "c:\\Development\\Machine Learning\\bitcoin-price-prediction\\env\\lib\\site-packages\\sklearn\\utils\\deprecation.py:87: FutureWarning: Function plot_confusion_matrix is deprecated; Function `plot_confusion_matrix` is deprecated in 1.0 and will be removed in 1.2. Use one of the class methods: ConfusionMatrixDisplay.from_predictions or ConfusionMatrixDisplay.from_estimator.\n",
      "  warnings.warn(msg, category=FutureWarning)\n",
      "c:\\Development\\Machine Learning\\bitcoin-price-prediction\\env\\lib\\site-packages\\sklearn\\base.py:450: UserWarning: X does not have valid feature names, but LogisticRegression was fitted with feature names\n",
      "  warnings.warn(\n"
     ]
    },
    {
     "data": {
      "text/plain": [
       "<sklearn.metrics._plot.confusion_matrix.ConfusionMatrixDisplay at 0x190a6c98640>"
      ]
     },
     "execution_count": 303,
     "metadata": {},
     "output_type": "execute_result"
    },
    {
     "data": {
      "image/png": "[encoded data removed]",
      "text/plain": [
       "<Figure size 432x288 with 2 Axes>"
      ]
     },
     "metadata": {
      "needs_background": "light"
     },
     "output_type": "display_data"
    }
   ],
   "source": [
    "plot_confusion_matrix(final_model, X_final, y)"
   ]
  },
  {
   "cell_type": "code",
   "execution_count": 304,
   "metadata": {},
   "outputs": [
    {
     "data": {
      "text/plain": [
       "<AxesSubplot:xlabel='Date', ylabel='Positive'>"
      ]
     },
     "execution_count": 304,
     "metadata": {},
     "output_type": "execute_result"
    },
    {
     "data": {
      "image/png": "[encoded data removed]",
      "text/plain": [
       "<Figure size 1200x600 with 1 Axes>"
      ]
     },
     "metadata": {
      "needs_background": "light"
     },
     "output_type": "display_data"
    }
   ],
   "source": [
    "plt.figure(figsize=(12,6), dpi=100)\n",
    "sns.scatterplot(data=df, x='Date', y='Positive')\n",
    "sns.scatterplot(x=df['Date'], y=y_pred_final, lw=0.2, alpha=0.05)"
   ]
  },
  {
   "cell_type": "code",
   "execution_count": 314,
   "metadata": {},
   "outputs": [],
   "source": [
    "import datetime"
   ]
  },
  {
   "cell_type": "code",
   "execution_count": 319,
   "metadata": {},
   "outputs": [
    {
     "data": {
      "text/plain": [
       "(18993.0, 19183.0)"
      ]
     },
     "execution_count": 319,
     "metadata": {},
     "output_type": "execute_result"
    },
    {
     "data": {
      "image/png": "[encoded data removed]",
      "text/plain": [
       "<Figure size 1440x720 with 1 Axes>"
      ]
     },
     "metadata": {
      "needs_background": "light"
     },
     "output_type": "display_data"
    }
   ],
   "source": [
    "plt.figure(figsize=(12, 6), dpi=120)\n",
    "sns.scatterplot(data=df, x='Date', y='Price', hue=y_pred_final)\n",
    "plt.xlim(datetime.date(2022, 1, 1), datetime.date(2022, 7, 10))"
   ]
  },
  {
   "cell_type": "code",
   "execution_count": null,
   "metadata": {},
   "outputs": [],
   "source": []
  }
 ],
 "metadata": {
  "kernelspec": {
   "display_name": "Python 3.9.11 ('env': venv)",
   "language": "python",
   "name": "python3"
  },
  "language_info": {
   "codemirror_mode": {
    "name": "ipython",
    "version": 3
   },
   "file_extension": ".py",
   "mimetype": "text/x-python",
   "name": "python",
   "nbconvert_exporter": "python",
   "pygments_lexer": "ipython3",
   "version": "3.9.11"
  },
  "orig_nbformat": 4,
  "vscode": {
   "interpreter": {
    "hash": "38f8d2e45c56aec506cdbb55da746efc81827272dd1d93234b86d1cf63f1568d"
   }
  }
 },
 "nbformat": 4,
 "nbformat_minor": 2
}
